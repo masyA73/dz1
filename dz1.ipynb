{
 "cells": [
  {
   "cell_type": "markdown",
   "metadata": {},
   "source": [
    "### Домашнее задание к лекции \"Основы Python\" (by Igor Rakhmanov)"
   ]
  },
  {
   "cell_type": "markdown",
   "metadata": {},
   "source": [
    "### Задание 1"
   ]
  },
  {
   "cell_type": "code",
   "execution_count": 1,
   "metadata": {},
   "outputs": [
    {
     "name": "stdout",
     "output_type": "stream",
     "text": [
      "Фраза 1 длиннее фразы 2\n"
     ]
    }
   ],
   "source": [
    "phrase_1 = 'Насколько проще было бы писать программы, если бы не заказчики'\n",
    "phrase_2 = '640Кб должно хватить для любых задач. Билл Гейтс (по легенде)'\n",
    "if len(phrase_1) > len(phrase_2):\n",
    "    print ('Фраза 1 длиннее фразы 2')\n",
    "else: \n",
    "    print ('Фраза 2 длиннее фразы 1')"
   ]
  },
  {
   "cell_type": "code",
   "execution_count": 2,
   "metadata": {},
   "outputs": [
    {
     "name": "stdout",
     "output_type": "stream",
     "text": [
      "Фраза 2 длиннее фразы 1\n"
     ]
    }
   ],
   "source": [
    "phrase_1 = '640Кб должно хватить для любых задач. Билл Гейтс (по легенде)'\n",
    "phrase_2 = 'Насколько проще было бы писать программы, если бы не заказчики'\n",
    "if len(phrase_1) > len(phrase_2):\n",
    "    print ('Фраза 1 длиннее фразы 2')\n",
    "else: \n",
    "    print ('Фраза 2 длиннее фразы 1')"
   ]
  },
  {
   "cell_type": "code",
   "execution_count": 3,
   "metadata": {},
   "outputs": [
    {
     "name": "stdout",
     "output_type": "stream",
     "text": [
      "Фразы равной длины\n"
     ]
    }
   ],
   "source": [
    "phrase_1 = 'Насколько проще было бы писать программы, если бы не заказчики'\n",
    "phrase_2 = 'Насколько проще было бы писать программы, если бы не заказчики'\n",
    "if len(phrase_1) > len(phrase_2):\n",
    "    print ('Фраза 1 длиннее фразы 2')\n",
    "elif len(phrase_1) < len(phrase_2):\n",
    "    print ('Фраза 2 длиннее фразы 1')\n",
    "else: \n",
    "    print ('Фразы равной длины')"
   ]
  },
  {
   "cell_type": "markdown",
   "metadata": {},
   "source": [
    "### Задание 2"
   ]
  },
  {
   "cell_type": "code",
   "execution_count": 4,
   "metadata": {},
   "outputs": [
    {
     "name": "stdout",
     "output_type": "stream",
     "text": [
      "2019\n",
      "Обычный год\n"
     ]
    }
   ],
   "source": [
    "year = int(input())\n",
    "if (year % 4 == 0) and (year % 100 != 0) or (year % 400 == 0):\n",
    "    print('Високосный')\n",
    "else:\n",
    "    print('Обычный год')"
   ]
  },
  {
   "cell_type": "code",
   "execution_count": 12,
   "metadata": {},
   "outputs": [
    {
     "name": "stdout",
     "output_type": "stream",
     "text": [
      "2020\n",
      "Високосный год\n"
     ]
    }
   ],
   "source": [
    "year = int(input())\n",
    "if (year % 4 == 0) and (year % 100 != 0) or (year % 400 == 0):\n",
    "    print('Високосный год')\n",
    "else:\n",
    "    print('Обычный')"
   ]
  },
  {
   "cell_type": "markdown",
   "metadata": {},
   "source": [
    "### Задание 3"
   ]
  },
  {
   "cell_type": "code",
   "execution_count": 15,
   "metadata": {},
   "outputs": [
    {
     "name": "stdout",
     "output_type": "stream",
     "text": [
      "Введите день 30\n",
      "Введите месяц август\n",
      "Ваш знак зодиака: Дева\n"
     ]
    }
   ],
   "source": [
    "date = int(input('Введите день '))\n",
    "month = input('Введите месяц ')\n",
    "if(date >= 21 and date <= 31 and month == 'март') or (month == 'апрель' and date >= 1 and date <= 20):\n",
    "    print ('Ваш знак зодиака:Овен')\n",
    "elif (date >= 21 and date <= 31 and month == 'апрель') or (month == 'май' and date >= 1 and date <= 21):\n",
    "    print ('Ваш знак зодиака: Телец')\n",
    "elif (date >= 22 and date <= 31 and month == 'май') or (month == 'июнь' and date >= 1 and date <= 21):\n",
    "    print ('Ваш знак зодиака: Близнецы')\n",
    "elif (date >= 22 and date <= 31 and month == 'июнь') or (month == 'июль' and date >= 1 and date <= 22):\n",
    "    print ('Ваш знак зодиака: Рак')\n",
    "elif (date >= 23 and date <= 31 and month == 'июль') or (month == 'август' and date >= 1 and date <= 21):\n",
    "    print ('Ваш знак зодиака: Лев')\n",
    "elif (date >= 22 and date <= 31 and month == 'август') or (month == 'сентябрь' and date >= 1 and date <= 23):\n",
    "    print ('Ваш знак зодиака: Дева')\n",
    "elif (date >= 24 and date <= 31 and month == 'сентябрь') or (month == 'октябрь' and date >= 1 and date <= 23):\n",
    "    print ('Ваш знак зодиака: Весы')\n",
    "elif (date >= 24 and date <= 31 and month == 'октябрь') or (month == 'ноябрь' and date >= 1 and date <= 22):\n",
    "    print ('Ваш знак зодиака: Скорпион')\n",
    "elif (date >= 23 and date <= 31 and month == 'ноябрь') or (month == 'декабрь' and date >= 1 and date <= 22):\n",
    "    print ('Ваш знак зодиака: Стрелец')\n",
    "elif (date >= 23 and date <= 31 and month == 'декабрь') or (month == 'январь' and date >= 1 and date <= 20):\n",
    "    print ('Ваш знак зодиака: Козерог')\n",
    "elif (date >= 21 and date <= 31 and month == 'январь') or (month == 'февраль' and date >= 1 and date <= 19):\n",
    "    print ('Ваш знак зодиака: Водолей')\n",
    "elif (date >= 20 and date <= 31 and month == 'февраль') or (month == 'март' and date >= 1 and date <= 20):\n",
    "    print ('Ваш знак зодиака: Рыбы')"
   ]
  },
  {
   "cell_type": "code",
   "execution_count": 16,
   "metadata": {},
   "outputs": [
    {
     "name": "stdout",
     "output_type": "stream",
     "text": [
      "Введите день 29\n",
      "Введите месяц октябрь\n",
      "Ваш знак зодиака: Скорпион\n"
     ]
    }
   ],
   "source": [
    "date = int(input('Введите день '))\n",
    "month = input('Введите месяц ')\n",
    "if(date >= 21 and date <= 31 and month == 'март') or (month == 'апрель' and date >= 1 and date <= 20):\n",
    "    print ('Ваш знак зодиака:Овен')\n",
    "elif (date >= 21 and date <= 31 and month == 'апрель') or (month == 'май' and date >= 1 and date <= 21):\n",
    "    print ('Ваш знак зодиака: Телец')\n",
    "elif (date >= 22 and date <= 31 and month == 'май') or (month == 'июнь' and date >= 1 and date <= 21):\n",
    "    print ('Ваш знак зодиака: Близнецы')\n",
    "elif (date >= 22 and date <= 31 and month == 'июнь') or (month == 'июль' and date >= 1 and date <= 22):\n",
    "    print ('Ваш знак зодиака: Рак')\n",
    "elif (date >= 23 and date <= 31 and month == 'июль') or (month == 'август' and date >= 1 and date <= 21):\n",
    "    print ('Ваш знак зодиака: Лев')\n",
    "elif (date >= 22 and date <= 31 and month == 'август') or (month == 'сентябрь' and date >= 1 and date <= 23):\n",
    "    print ('Ваш знак зодиака: Дева')\n",
    "elif (date >= 24 and date <= 31 and month == 'сентябрь') or (month == 'октябрь' and date >= 1 and date <= 23):\n",
    "    print ('Ваш знак зодиака: Весы')\n",
    "elif (date >= 24 and date <= 31 and month == 'октябрь') or (month == 'ноябрь' and date >= 1 and date <= 22):\n",
    "    print ('Ваш знак зодиака: Скорпион')\n",
    "elif (date >= 23 and date <= 31 and month == 'ноябрь') or (month == 'декабрь' and date >= 1 and date <= 22):\n",
    "    print ('Ваш знак зодиака: Стрелец')\n",
    "elif (date >= 23 and date <= 31 and month == 'декабрь') or (month == 'январь' and date >= 1 and date <= 20):\n",
    "    print ('Ваш знак зодиака: Козерог')\n",
    "elif (date >= 21 and date <= 31 and month == 'январь') or (month == 'февраль' and date >= 1 and date <= 19):\n",
    "    print ('Ваш знак зодиака: Водолей')\n",
    "elif (date >= 20 and date <= 31 and month == 'февраль') or (month == 'март' and date >= 1 and date <= 20):\n",
    "    print ('Ваш знак зодиака: Рыбы')"
   ]
  },
  {
   "cell_type": "markdown",
   "metadata": {},
   "source": [
    "### Задание 4"
   ]
  },
  {
   "cell_type": "code",
   "execution_count": 14,
   "metadata": {},
   "outputs": [
    {
     "name": "stdout",
     "output_type": "stream",
     "text": [
      "Упаковка для лыж\n"
     ]
    }
   ],
   "source": [
    "width = 10\n",
    "length = 205\n",
    "height = 5\n",
    "if width < 15 and length < 15 and height < 15:\n",
    "    print ('Коробка №1')\n",
    "elif (width > 15 and  width < 50) or (length > 15 and length < 50) or (height > 15 and height < 50):\n",
    "    print ('Коробка №2')\n",
    "elif length > 200:\n",
    "    print ('Упаковка для лыж')\n",
    "else:\n",
    "    print ('Стандартная коробка №3')"
   ]
  },
  {
   "cell_type": "code",
   "execution_count": 13,
   "metadata": {},
   "outputs": [
    {
     "name": "stdout",
     "output_type": "stream",
     "text": [
      "Упаковка для лыж\n"
     ]
    }
   ],
   "source": [
    "width = 45\n",
    "length = 205\n",
    "height = 45\n",
    "if length > 200:\n",
    "    print ('Упаковка для лыж')\n",
    "elif width < 15 and length < 15 and height < 15:\n",
    "    print ('Коробка №1')\n",
    "elif (width > 15 and  width < 50) or (length > 15 and length < 50) or (height > 15 and height < 50):\n",
    "    print ('Коробка №2')\n",
    "else:\n",
    "    print ('Стандартная коробка №3')"
   ]
  },
  {
   "cell_type": "markdown",
   "metadata": {},
   "source": [
    "### Задание 5"
   ]
  },
  {
   "cell_type": "code",
   "execution_count": 7,
   "metadata": {},
   "outputs": [
    {
     "name": "stdout",
     "output_type": "stream",
     "text": [
      "Введите номер билета: 123456\n",
      "Несчастливый билет\n"
     ]
    }
   ],
   "source": [
    "bilet = input(\"Введите номер билета: \")\n",
    "numbers = list(bilet)\n",
    "numbers = [int(i) for i in numbers]\n",
    "if (sum(numbers[:3]) == sum(numbers[3:])):\n",
    "    print(\"Счастливый билет\")\n",
    "else:\n",
    "    print(\"Несчастливый билет\")"
   ]
  },
  {
   "cell_type": "code",
   "execution_count": 8,
   "metadata": {},
   "outputs": [
    {
     "name": "stdout",
     "output_type": "stream",
     "text": [
      "Введите номер билета: 123321\n",
      "Счастливый билет\n"
     ]
    }
   ],
   "source": [
    "bilet = input(\"Введите номер билета: \")\n",
    "numbers = list(bilet)\n",
    "numbers = [int(i) for i in numbers]\n",
    "if (sum(numbers[:3]) == sum(numbers[3:])):\n",
    "    print(\"Счастливый билет\")\n",
    "else:\n",
    "    print(\"Несчастливый билет\")"
   ]
  }
 ],
 "metadata": {
  "kernelspec": {
   "display_name": "Python 3",
   "language": "python",
   "name": "python3"
  },
  "language_info": {
   "codemirror_mode": {
    "name": "ipython",
    "version": 3
   },
   "file_extension": ".py",
   "mimetype": "text/x-python",
   "name": "python",
   "nbconvert_exporter": "python",
   "pygments_lexer": "ipython3",
   "version": "3.8.3"
  }
 },
 "nbformat": 4,
 "nbformat_minor": 4
}
